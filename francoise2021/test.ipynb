{
 "cells": [
  {
   "cell_type": "markdown",
   "metadata": {},
   "source": [
    "# My code for \"On Predation–Commensalism Processes as Models of Bi‑stability and Constructive Role of Systemic Extinctions\"\n",
    "E. Sanchez-Palencia, J.‑P.Françoise"
   ]
  },
  {
   "cell_type": "code",
   "execution_count": 17,
   "metadata": {},
   "outputs": [],
   "source": [
    "import mylibrary as mlib\n",
    "import math\n",
    "from matplotlib import pyplot as plt\n",
    "import numpy as np"
   ]
  },
  {
   "cell_type": "markdown",
   "metadata": {},
   "source": [
    "# **Figure 1**: Plots of orbits of system (1)"
   ]
  },
  {
   "cell_type": "code",
   "execution_count": 11,
   "metadata": {},
   "outputs": [
    {
     "name": "stdout",
     "output_type": "stream",
     "text": [
      "x at t=0 is 3.9\n",
      "y at t=0 is 2.1\n"
     ]
    }
   ],
   "source": [
    "def h(x):\n",
    "    b = 1\n",
    "    e = 2.0\n",
    "    f = b*math.tanh((e*x)/b)\n",
    "    return f\n",
    "\n",
    "def h_inv(x):\n",
    "    b = 1\n",
    "    e = 0.85\n",
    "    f = (b/e)*math.atanh(x/b)\n",
    "    return f\n",
    "\n",
    "def K(x,y):\n",
    "    K0 = 4\n",
    "    lmbda = 0\n",
    "    K = K0 + lmbda*y\n",
    "    return K\n",
    "\n",
    "def prey_rate(t, x, y):\n",
    "    a = 1 #birth rate for rabbits\n",
    "    xdot = a*x*(1-x/K(x,y)) - y*h(x)\n",
    "    return xdot\n",
    "\n",
    "def pred_rate(t, x, y):\n",
    "    c = 0.76 #death rate for foxes\n",
    "    ydot = -c*y + y*h(x)\n",
    "    return ydot\n",
    "\n",
    "#constants\n",
    "a = 1\n",
    "b = 1\n",
    "c = 0.76\n",
    "e = 2.0\n",
    "K0 = 4\n",
    "lmbda = 0\n",
    "\n",
    "#boundary conditions\n",
    "h_initial = 0.01\n",
    "x0 = 3.9\n",
    "y0 = 2.1\n",
    "#x0 = (b/e)*math.atanh(c/b)\n",
    "#y0 = (a*x0*(1-x0/K0))/c\n",
    "print(\"x at t=0 is\", x0)\n",
    "print(\"y at t=0 is\", y0)\n",
    "\n",
    "t_initial = 0.0\n",
    "t_final = 500.0\n",
    "\n",
    "population_1 = mlib.RK4_2var(h_initial, t_initial, t_final, x0, y0, prey_rate, pred_rate)"
   ]
  },
  {
   "cell_type": "code",
   "execution_count": 12,
   "metadata": {},
   "outputs": [
    {
     "name": "stdout",
     "output_type": "stream",
     "text": [
      "x at t=0 is 3.9\n",
      "y at t=0 is 1.6\n"
     ]
    }
   ],
   "source": [
    "def h(x):\n",
    "    b = 1\n",
    "    e = 0.85\n",
    "    f = b*math.tanh((e*x)/b)\n",
    "    return f\n",
    "\n",
    "def h_inv(x):\n",
    "    b = 1\n",
    "    e = 0.85\n",
    "    f = (b/e)*math.atanh(x/b)\n",
    "    return f\n",
    "\n",
    "def K(x,y):\n",
    "    K0 = 4\n",
    "    lmbda = 0\n",
    "    K = K0 + lmbda*y\n",
    "    return K\n",
    "\n",
    "def prey_rate(t, x, y):\n",
    "    a = 1 #birth rate for rabbits\n",
    "    xdot = a*x*(1-x/K(x,y)) - y*h(x)\n",
    "    return xdot\n",
    "\n",
    "def pred_rate(t, x, y):\n",
    "    c = 0.76 #death rate for foxes\n",
    "    ydot = -c*y + y*h(x)\n",
    "    return ydot\n",
    "\n",
    "#constants\n",
    "a = 1\n",
    "b = 1\n",
    "c = 0.76\n",
    "e = 0.85\n",
    "K0 = 4\n",
    "lmbda = 0\n",
    "\n",
    "#boundary conditions\n",
    "h_initial = 0.01\n",
    "x0 = 3.9\n",
    "y0 = 1.6\n",
    "#x0 = (b/e)*math.atanh(c/b)\n",
    "#y0 = (a*x0*(1-x0/K0))/c\n",
    "print(\"x at t=0 is\", x0)\n",
    "print(\"y at t=0 is\", y0)\n",
    "\n",
    "t_initial = 0.0\n",
    "t_final = 500.0\n",
    "\n",
    "population_2 = mlib.RK4_2var(h_initial, t_initial, t_final, x0, y0, prey_rate, pred_rate)"
   ]
  },
  {
   "cell_type": "code",
   "execution_count": 13,
   "metadata": {},
   "outputs": [
    {
     "name": "stdout",
     "output_type": "stream",
     "text": [
      "x at t=0 is 3.9\n",
      "y at t=0 is 1.3\n"
     ]
    }
   ],
   "source": [
    "def h(x):\n",
    "    b = 1\n",
    "    e = 0.6\n",
    "    f = b*math.tanh((e*x)/b)\n",
    "    return f\n",
    "\n",
    "def h_inv(x):\n",
    "    b = 1\n",
    "    e = 0.6\n",
    "    f = (b/e)*math.atanh(x/b)\n",
    "    return f\n",
    "\n",
    "def K(x,y):\n",
    "    K0 = 4\n",
    "    lmbda = 0\n",
    "    K = K0 + lmbda*y\n",
    "    return K\n",
    "\n",
    "def prey_rate(t, x, y):\n",
    "    a = 1 #birth rate for rabbits\n",
    "    xdot = a*x*(1-x/K(x,y)) - y*h(x)\n",
    "    return xdot\n",
    "\n",
    "def pred_rate(t, x, y):\n",
    "    c = 0.76 #death rate for foxes\n",
    "    ydot = -c*y + y*h(x)\n",
    "    return ydot\n",
    "\n",
    "#constants\n",
    "a = 1\n",
    "b = 1\n",
    "c = 0.76\n",
    "e = 0.6\n",
    "K0 = 4\n",
    "lmbda = 0\n",
    "\n",
    "#boundary conditions\n",
    "h_initial = 0.01\n",
    "x0 = 3.9\n",
    "y0 = 1.3\n",
    "#x0 = (b/e)*math.atanh(c/b)\n",
    "#y0 = (a*x0*(1-x0/K0))/c\n",
    "print(\"x at t=0 is\", x0)\n",
    "print(\"y at t=0 is\", y0)\n",
    "\n",
    "t_initial = 0.0\n",
    "t_final = 500.0\n",
    "\n",
    "population_3 = mlib.RK4_2var(h_initial, t_initial, t_final, x0, y0, prey_rate, pred_rate)"
   ]
  },
  {
   "cell_type": "code",
   "execution_count": 14,
   "metadata": {},
   "outputs": [
    {
     "name": "stdout",
     "output_type": "stream",
     "text": [
      "x at t=0 is 4.4\n",
      "y at t=0 is 1.0\n"
     ]
    }
   ],
   "source": [
    "def h(x):\n",
    "    b = 1\n",
    "    e = 0.35\n",
    "    f = b*math.tanh((e*x)/b)\n",
    "    return f\n",
    "\n",
    "def h_inv(x):\n",
    "    b = 1\n",
    "    e = 0.35\n",
    "    f = (b/e)*math.atanh(x/b)\n",
    "    return f\n",
    "\n",
    "def K(x,y):\n",
    "    K0 = 4\n",
    "    lmbda = 0\n",
    "    K = K0 + lmbda*y\n",
    "    return K\n",
    "\n",
    "def prey_rate(t, x, y):\n",
    "    a = 1 #birth rate for rabbits\n",
    "    xdot = a*x*(1-x/K(x,y)) - y*h(x)\n",
    "    return xdot\n",
    "\n",
    "def pred_rate(t, x, y):\n",
    "    c = 0.76 #death rate for foxes\n",
    "    ydot = -c*y + y*h(x)\n",
    "    return ydot\n",
    "\n",
    "#constants\n",
    "a = 1\n",
    "b = 1\n",
    "c = 0.76\n",
    "e = 0.35\n",
    "K0 = 4\n",
    "lmbda = 0\n",
    "\n",
    "#boundary conditions\n",
    "h_initial = 0.01\n",
    "x0 = 4.4\n",
    "y0 = 1.0\n",
    "#x0 = (b/e)*math.atanh(c/b)\n",
    "#y0 = (a*x0*(1-x0/K0))/c\n",
    "print(\"x at t=0 is\", x0)\n",
    "print(\"y at t=0 is\", y0)\n",
    "\n",
    "t_initial = 0.0\n",
    "t_final = 500.0\n",
    "\n",
    "population_4 = mlib.RK4_2var(h_initial, t_initial, t_final, x0, y0, prey_rate, pred_rate)"
   ]
  },
  {
   "cell_type": "code",
   "execution_count": 15,
   "metadata": {},
   "outputs": [
    {
     "name": "stdout",
     "output_type": "stream",
     "text": [
      "x at t=0 is 4.4\n",
      "y at t=0 is 0.4\n"
     ]
    }
   ],
   "source": [
    "def h(x):\n",
    "    b = 1\n",
    "    e = 0.15\n",
    "    f = b*math.tanh((e*x)/b)\n",
    "    return f\n",
    "\n",
    "def h_inv(x):\n",
    "    b = 1\n",
    "    e = 0.15\n",
    "    f = (b/e)*math.atanh(x/b)\n",
    "    return f\n",
    "\n",
    "def K(x,y):\n",
    "    K0 = 4\n",
    "    lmbda = 0\n",
    "    K = K0 + lmbda*y\n",
    "    return K\n",
    "\n",
    "def prey_rate(t, x, y):\n",
    "    a = 1 #birth rate for rabbits\n",
    "    xdot = a*x*(1-x/K(x,y)) - y*h(x)\n",
    "    return xdot\n",
    "\n",
    "def pred_rate(t, x, y):\n",
    "    c = 0.76 #death rate for foxes\n",
    "    ydot = -c*y + y*h(x)\n",
    "    return ydot\n",
    "\n",
    "#constants\n",
    "a = 1\n",
    "b = 1\n",
    "c = 0.76\n",
    "e = 0.15\n",
    "K0 = 4\n",
    "lmbda = 0\n",
    "\n",
    "#boundary conditions\n",
    "h_initial = 0.01\n",
    "x0 = 4.4\n",
    "y0 = 0.4\n",
    "#x0 = (b/e)*math.atanh(c/b)\n",
    "#y0 = (a*x0*(1-x0/K0))/c\n",
    "print(\"x at t=0 is\", x0)\n",
    "print(\"y at t=0 is\", y0)\n",
    "\n",
    "t_initial = 0.0\n",
    "t_final = 500.0\n",
    "\n",
    "population_5 = mlib.RK4_2var(h_initial, t_initial, t_final, x0, y0, prey_rate, pred_rate)"
   ]
  },
  {
   "cell_type": "code",
   "execution_count": 16,
   "metadata": {},
   "outputs": [
    {
     "data": {
      "image/png": "[encoded data removed]",
      "text/plain": [
       "<Figure size 432x288 with 1 Axes>"
      ]
     },
     "metadata": {
      "needs_background": "light"
     },
     "output_type": "display_data"
    }
   ],
   "source": [
    "plt.plot(population_1[1], population_1[2], 'r-')\n",
    "plt.plot(population_2[1], population_2[2], 'g-')\n",
    "plt.plot(population_3[1], population_3[2], 'b-')\n",
    "plt.plot(population_4[1], population_4[2], 'c-')\n",
    "plt.plot(population_5[1], population_5[2], 'm-')\n",
    "plt.title(\"Prey curve (x(t)) vs predator curve (y(t)) for PC model\")\n",
    "plt.xlabel(\"x\")\n",
    "plt.ylabel(\"y\")\n",
    "plt.show()"
   ]
  },
  {
   "cell_type": "code",
   "execution_count": null,
   "metadata": {},
   "outputs": [],
   "source": []
  }
 ],
 "metadata": {
  "interpreter": {
   "hash": "06e4078bcc0d7a49e904396e03d92b041a9458cc8bdb457eb518cd2e84077cf6"
  },
  "kernelspec": {
   "display_name": "Python 3.7.4 32-bit",
   "language": "python",
   "name": "python3"
  },
  "language_info": {
   "codemirror_mode": {
    "name": "ipython",
    "version": 3
   },
   "file_extension": ".py",
   "mimetype": "text/x-python",
   "name": "python",
   "nbconvert_exporter": "python",
   "pygments_lexer": "ipython3",
   "version": "3.7.4"
  },
  "orig_nbformat": 4
 },
 "nbformat": 4,
 "nbformat_minor": 2
}
