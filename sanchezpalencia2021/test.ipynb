{
 "cells": [
  {
   "cell_type": "markdown",
   "metadata": {},
   "source": [
    "# My code for \"On Predation–Commensalism Processes as Models of Bi‑stability and Constructive Role of Systemic Extinctions\"\n",
    "Authors: E. Sanchez-Palencia, J.‑P.Françoise\n",
    "\n",
    "Note: This code has been written to reproduce the plots in the above paper for demonstrative purposes only. Only the models proposed in the given paper have been used to derive the same results, along with a few unique results, in this file. "
   ]
  },
  {
   "cell_type": "code",
   "execution_count": 2,
   "metadata": {},
   "outputs": [],
   "source": [
    "import mylibrary as mlib\n",
    "import math\n",
    "from matplotlib import pyplot as plt\n",
    "import numpy as np"
   ]
  },
  {
   "cell_type": "markdown",
   "metadata": {},
   "source": [
    "# **Figure 1**: Plots of orbits of system (1)"
   ]
  },
  {
   "cell_type": "code",
   "execution_count": 2,
   "metadata": {},
   "outputs": [
    {
     "name": "stdout",
     "output_type": "stream",
     "text": [
      "x at t=0 is 3.9\n",
      "y at t=0 is 2.1\n"
     ]
    }
   ],
   "source": [
    "def h(x):\n",
    "    b = 1\n",
    "    e = 2.0\n",
    "    f = b*math.tanh((e*x)/b)\n",
    "    return f\n",
    "\n",
    "def h_inv(x):\n",
    "    b = 1\n",
    "    e = 0.85\n",
    "    f = (b/e)*math.atanh(x/b)\n",
    "    return f\n",
    "\n",
    "def K(x,y):\n",
    "    K0 = 4\n",
    "    lmbda = 0\n",
    "    K = K0 + lmbda*y\n",
    "    return K\n",
    "\n",
    "def prey_rate(t, x, y):\n",
    "    a = 1 #birth rate for rabbits\n",
    "    xdot = a*x*(1-x/K(x,y)) - y*h(x)\n",
    "    return xdot\n",
    "\n",
    "def pred_rate(t, x, y):\n",
    "    c = 0.76 #death rate for foxes\n",
    "    ydot = -c*y + y*h(x)\n",
    "    return ydot\n",
    "\n",
    "#constants\n",
    "a = 1\n",
    "b = 1\n",
    "c = 0.76\n",
    "e = 2.0\n",
    "K0 = 4\n",
    "lmbda = 0\n",
    "\n",
    "#boundary conditions\n",
    "h_initial = 0.01\n",
    "x0 = 3.9\n",
    "y0 = 2.1\n",
    "#x0 = (b/e)*math.atanh(c/b)\n",
    "#y0 = (a*x0*(1-x0/K0))/c\n",
    "print(\"x at t=0 is\", x0)\n",
    "print(\"y at t=0 is\", y0)\n",
    "\n",
    "t_initial = 0.0\n",
    "t_final = 500.0\n",
    "\n",
    "population_1 = mlib.RK4_2var(h_initial, t_initial, t_final, x0, y0, prey_rate, pred_rate)"
   ]
  },
  {
   "cell_type": "code",
   "execution_count": 3,
   "metadata": {},
   "outputs": [
    {
     "name": "stdout",
     "output_type": "stream",
     "text": [
      "x at t=0 is 3.9\n",
      "y at t=0 is 1.6\n"
     ]
    }
   ],
   "source": [
    "def h(x):\n",
    "    b = 1\n",
    "    e = 0.85\n",
    "    f = b*math.tanh((e*x)/b)\n",
    "    return f\n",
    "\n",
    "def h_inv(x):\n",
    "    b = 1\n",
    "    e = 0.85\n",
    "    f = (b/e)*math.atanh(x/b)\n",
    "    return f\n",
    "\n",
    "def K(x,y):\n",
    "    K0 = 4\n",
    "    lmbda = 0\n",
    "    K = K0 + lmbda*y\n",
    "    return K\n",
    "\n",
    "def prey_rate(t, x, y):\n",
    "    a = 1 #birth rate for rabbits\n",
    "    xdot = a*x*(1-x/K(x,y)) - y*h(x)\n",
    "    return xdot\n",
    "\n",
    "def pred_rate(t, x, y):\n",
    "    c = 0.76 #death rate for foxes\n",
    "    ydot = -c*y + y*h(x)\n",
    "    return ydot\n",
    "\n",
    "#constants\n",
    "a = 1\n",
    "b = 1\n",
    "c = 0.76\n",
    "e = 0.85\n",
    "K0 = 4\n",
    "lmbda = 0\n",
    "\n",
    "#boundary conditions\n",
    "h_initial = 0.01\n",
    "x0 = 3.9\n",
    "y0 = 1.6\n",
    "#x0 = (b/e)*math.atanh(c/b)\n",
    "#y0 = (a*x0*(1-x0/K0))/c\n",
    "print(\"x at t=0 is\", x0)\n",
    "print(\"y at t=0 is\", y0)\n",
    "\n",
    "t_initial = 0.0\n",
    "t_final = 500.0\n",
    "\n",
    "population_2 = mlib.RK4_2var(h_initial, t_initial, t_final, x0, y0, prey_rate, pred_rate)"
   ]
  },
  {
   "cell_type": "code",
   "execution_count": 4,
   "metadata": {},
   "outputs": [
    {
     "name": "stdout",
     "output_type": "stream",
     "text": [
      "x at t=0 is 3.9\n",
      "y at t=0 is 1.3\n"
     ]
    }
   ],
   "source": [
    "def h(x):\n",
    "    b = 1\n",
    "    e = 0.6\n",
    "    f = b*math.tanh((e*x)/b)\n",
    "    return f\n",
    "\n",
    "def h_inv(x):\n",
    "    b = 1\n",
    "    e = 0.6\n",
    "    f = (b/e)*math.atanh(x/b)\n",
    "    return f\n",
    "\n",
    "def K(x,y):\n",
    "    K0 = 4\n",
    "    lmbda = 0\n",
    "    K = K0 + lmbda*y\n",
    "    return K\n",
    "\n",
    "def prey_rate(t, x, y):\n",
    "    a = 1 #birth rate for rabbits\n",
    "    xdot = a*x*(1-x/K(x,y)) - y*h(x)\n",
    "    return xdot\n",
    "\n",
    "def pred_rate(t, x, y):\n",
    "    c = 0.76 #death rate for foxes\n",
    "    ydot = -c*y + y*h(x)\n",
    "    return ydot\n",
    "\n",
    "#constants\n",
    "a = 1\n",
    "b = 1\n",
    "c = 0.76\n",
    "e = 0.6\n",
    "K0 = 4\n",
    "lmbda = 0\n",
    "\n",
    "#boundary conditions\n",
    "h_initial = 0.01\n",
    "x0 = 3.9\n",
    "y0 = 1.3\n",
    "#x0 = (b/e)*math.atanh(c/b)\n",
    "#y0 = (a*x0*(1-x0/K0))/c\n",
    "print(\"x at t=0 is\", x0)\n",
    "print(\"y at t=0 is\", y0)\n",
    "\n",
    "t_initial = 0.0\n",
    "t_final = 500.0\n",
    "\n",
    "population_3 = mlib.RK4_2var(h_initial, t_initial, t_final, x0, y0, prey_rate, pred_rate)"
   ]
  },
  {
   "cell_type": "code",
   "execution_count": 5,
   "metadata": {},
   "outputs": [
    {
     "name": "stdout",
     "output_type": "stream",
     "text": [
      "x at t=0 is 4.4\n",
      "y at t=0 is 1.0\n"
     ]
    }
   ],
   "source": [
    "def h(x):\n",
    "    b = 1\n",
    "    e = 0.35\n",
    "    f = b*math.tanh((e*x)/b)\n",
    "    return f\n",
    "\n",
    "def h_inv(x):\n",
    "    b = 1\n",
    "    e = 0.35\n",
    "    f = (b/e)*math.atanh(x/b)\n",
    "    return f\n",
    "\n",
    "def K(x,y):\n",
    "    K0 = 4\n",
    "    lmbda = 0\n",
    "    K = K0 + lmbda*y\n",
    "    return K\n",
    "\n",
    "def prey_rate(t, x, y):\n",
    "    a = 1 #birth rate for rabbits\n",
    "    xdot = a*x*(1-x/K(x,y)) - y*h(x)\n",
    "    return xdot\n",
    "\n",
    "def pred_rate(t, x, y):\n",
    "    c = 0.76 #death rate for foxes\n",
    "    ydot = -c*y + y*h(x)\n",
    "    return ydot\n",
    "\n",
    "#constants\n",
    "a = 1\n",
    "b = 1\n",
    "c = 0.76\n",
    "e = 0.35\n",
    "K0 = 4\n",
    "lmbda = 0\n",
    "\n",
    "#boundary conditions\n",
    "h_initial = 0.01\n",
    "x0 = 4.4\n",
    "y0 = 1.0\n",
    "#x0 = (b/e)*math.atanh(c/b)\n",
    "#y0 = (a*x0*(1-x0/K0))/c\n",
    "print(\"x at t=0 is\", x0)\n",
    "print(\"y at t=0 is\", y0)\n",
    "\n",
    "t_initial = 0.0\n",
    "t_final = 500.0\n",
    "\n",
    "population_4 = mlib.RK4_2var(h_initial, t_initial, t_final, x0, y0, prey_rate, pred_rate)"
   ]
  },
  {
   "cell_type": "code",
   "execution_count": 6,
   "metadata": {},
   "outputs": [
    {
     "name": "stdout",
     "output_type": "stream",
     "text": [
      "x at t=0 is 4.4\n",
      "y at t=0 is 0.4\n"
     ]
    }
   ],
   "source": [
    "def h(x):\n",
    "    b = 1\n",
    "    e = 0.15\n",
    "    f = b*math.tanh((e*x)/b)\n",
    "    return f\n",
    "\n",
    "def h_inv(x):\n",
    "    b = 1\n",
    "    e = 0.15\n",
    "    f = (b/e)*math.atanh(x/b)\n",
    "    return f\n",
    "\n",
    "def K(x,y):\n",
    "    K0 = 4\n",
    "    lmbda = 0\n",
    "    K = K0 + lmbda*y\n",
    "    return K\n",
    "\n",
    "def prey_rate(t, x, y):\n",
    "    a = 1 #birth rate for rabbits\n",
    "    xdot = a*x*(1-x/K(x,y)) - y*h(x)\n",
    "    return xdot\n",
    "\n",
    "def pred_rate(t, x, y):\n",
    "    c = 0.76 #death rate for foxes\n",
    "    ydot = -c*y + y*h(x)\n",
    "    return ydot\n",
    "\n",
    "#constants\n",
    "a = 1\n",
    "b = 1\n",
    "c = 0.76\n",
    "e = 0.15\n",
    "K0 = 4\n",
    "lmbda = 0\n",
    "\n",
    "#boundary conditions\n",
    "h_initial = 0.01\n",
    "x0 = 4.4\n",
    "y0 = 0.4\n",
    "#x0 = (b/e)*math.atanh(c/b)\n",
    "#y0 = (a*x0*(1-x0/K0))/c\n",
    "print(\"x at t=0 is\", x0)\n",
    "print(\"y at t=0 is\", y0)\n",
    "\n",
    "t_initial = 0.0\n",
    "t_final = 500.0\n",
    "\n",
    "population_5 = mlib.RK4_2var(h_initial, t_initial, t_final, x0, y0, prey_rate, pred_rate)"
   ]
  },
  {
   "cell_type": "code",
   "execution_count": 7,
   "metadata": {},
   "outputs": [
    {
     "data": {
      "image/png": "[encoded data removed]",
      "text/plain": [
       "<Figure size 432x288 with 1 Axes>"
      ]
     },
     "metadata": {
      "needs_background": "light"
     },
     "output_type": "display_data"
    }
   ],
   "source": [
    "plt.plot(population_1[1], population_1[2], 'r-')\n",
    "plt.plot(population_2[1], population_2[2], 'g-')\n",
    "plt.plot(population_3[1], population_3[2], 'b-')\n",
    "plt.plot(population_4[1], population_4[2], 'c-')\n",
    "plt.plot(population_5[1], population_5[2], 'm-')\n",
    "plt.title(\"Prey curve (x(t)) vs predator curve (y(t)) for PC model\")\n",
    "plt.xlabel(\"x\")\n",
    "plt.ylabel(\"y\")\n",
    "plt.show()"
   ]
  },
  {
   "cell_type": "markdown",
   "metadata": {},
   "source": [
    "# **Figure 2**: Phase portrait with $\\lambda = 3$"
   ]
  },
  {
   "cell_type": "code",
   "execution_count": 10,
   "metadata": {},
   "outputs": [
    {
     "name": "stdout",
     "output_type": "stream",
     "text": [
      "x at t=0 is 3\n",
      "y at t=0 is 0.5\n"
     ]
    }
   ],
   "source": [
    "def h(x):\n",
    "    b = 1\n",
    "    e = 0.6\n",
    "    f = b*math.tanh((e*x)/b)\n",
    "    return f\n",
    "\n",
    "def K(x,y):\n",
    "    K0 = 1\n",
    "    lmbda = 0\n",
    "    K = K0 + lmbda*y\n",
    "    return K\n",
    "\n",
    "def prey_rate(t, x, y):\n",
    "    a = 0.5 #birth rate for rabbits\n",
    "    xdot = a*x*(1-x/K(x,y)) - y*h(x)\n",
    "    return xdot\n",
    "\n",
    "def pred_rate(t, x, y):\n",
    "    c = 0.8 #death rate for foxes\n",
    "    ydot = -c*y + y*h(x)\n",
    "    return ydot\n",
    "\n",
    "#constants\n",
    "a = 0.5\n",
    "b = 1\n",
    "c = 0.8\n",
    "e = 0.6\n",
    "K0 = 1\n",
    "lmbda = 0\n",
    "\n",
    "#boundary conditions\n",
    "h_initial = 0.01\n",
    "x0 = 3\n",
    "y0 = 0.5\n",
    "#x0 = (b/e)*math.atanh(c/b)\n",
    "#y0 = (a*x0*(1-x0/K0))/c\n",
    "print(\"x at t=0 is\", x0)\n",
    "print(\"y at t=0 is\", y0)\n",
    "\n",
    "t_initial = 0.0\n",
    "t_final = 100.0\n",
    "\n",
    "population_l0 = mlib.RK4_2var(h_initial, t_initial, t_final, x0, y0, prey_rate, pred_rate)"
   ]
  },
  {
   "cell_type": "code",
   "execution_count": 11,
   "metadata": {},
   "outputs": [
    {
     "name": "stdout",
     "output_type": "stream",
     "text": [
      "x at t=0 is 3\n",
      "y at t=0 is 0.5\n"
     ]
    }
   ],
   "source": [
    "def h(x):\n",
    "    b = 1\n",
    "    e = 0.6\n",
    "    f = b*math.tanh((e*x)/b)\n",
    "    return f\n",
    "\n",
    "def K(x,y):\n",
    "    K0 = 1\n",
    "    lmbda = 3\n",
    "    K = K0 + lmbda*y\n",
    "    return K\n",
    "\n",
    "def prey_rate(t, x, y):\n",
    "    a = 0.5 #birth rate for rabbits\n",
    "    xdot = a*x*(1-x/K(x,y)) - y*h(x)\n",
    "    return xdot\n",
    "\n",
    "def pred_rate(t, x, y):\n",
    "    c = 0.8 #death rate for foxes\n",
    "    ydot = -c*y + y*h(x)\n",
    "    return ydot\n",
    "\n",
    "#constants\n",
    "a = 0.5\n",
    "b = 1\n",
    "c = 0.8\n",
    "e = 0.6\n",
    "K0 = 1\n",
    "lmbda = 3\n",
    "\n",
    "#boundary conditions\n",
    "h_initial = 0.01\n",
    "x0 = 3\n",
    "y0 = 0.5\n",
    "#x0 = (b/e)*math.atanh(c/b)\n",
    "#y0 = (a*x0*(1-x0/K0))/c\n",
    "print(\"x at t=0 is\", x0)\n",
    "print(\"y at t=0 is\", y0)\n",
    "\n",
    "t_initial = 0.0\n",
    "t_final = 100.0\n",
    "\n",
    "population_l1 = mlib.RK4_2var(h_initial, t_initial, t_final, x0, y0, prey_rate, pred_rate)"
   ]
  },
  {
   "cell_type": "code",
   "execution_count": 16,
   "metadata": {},
   "outputs": [
    {
     "name": "stdout",
     "output_type": "stream",
     "text": [
      "x at t=0 is 3\n",
      "y at t=0 is 1\n"
     ]
    }
   ],
   "source": [
    "def h(x):\n",
    "    b = 1\n",
    "    e = 0.6\n",
    "    f = b*math.tanh((e*x)/b)\n",
    "    return f\n",
    "\n",
    "def K(x,y):\n",
    "    K0 = 1\n",
    "    lmbda = 3\n",
    "    K = K0 + lmbda*y\n",
    "    return K\n",
    "\n",
    "def prey_rate(t, x, y):\n",
    "    a = 0.5 #birth rate for rabbits\n",
    "    xdot = a*x*(1-x/K(x,y)) - y*h(x)\n",
    "    return xdot\n",
    "\n",
    "def pred_rate(t, x, y):\n",
    "    c = 0.8 #death rate for foxes\n",
    "    ydot = -c*y + y*h(x)\n",
    "    return ydot\n",
    "\n",
    "#constants\n",
    "a = 0.5\n",
    "b = 1\n",
    "c = 0.8\n",
    "e = 0.6\n",
    "K0 = 1\n",
    "lmbda = 3\n",
    "\n",
    "#boundary conditions\n",
    "h_initial = 0.01\n",
    "x0 = 3\n",
    "y0 = 1\n",
    "#x0 = (b/e)*math.atanh(c/b)\n",
    "#y0 = (a*x0*(1-x0/K0))/c\n",
    "print(\"x at t=0 is\", x0)\n",
    "print(\"y at t=0 is\", y0)\n",
    "\n",
    "t_initial = 0.0\n",
    "t_final = 100.0\n",
    "\n",
    "population_l2 = mlib.RK4_2var(h_initial, t_initial, t_final, x0, y0, prey_rate, pred_rate)"
   ]
  },
  {
   "cell_type": "code",
   "execution_count": 17,
   "metadata": {},
   "outputs": [
    {
     "name": "stdout",
     "output_type": "stream",
     "text": [
      "x at t=0 is 1.1\n",
      "y at t=0 is 2.1\n"
     ]
    }
   ],
   "source": [
    "def h(x):\n",
    "    b = 1\n",
    "    e = 0.6\n",
    "    f = b*math.tanh((e*x)/b)\n",
    "    return f\n",
    "\n",
    "def K(x,y):\n",
    "    K0 = 1\n",
    "    lmbda = 3\n",
    "    K = K0 + lmbda*y\n",
    "    return K\n",
    "\n",
    "def prey_rate(t, x, y):\n",
    "    a = 0.5 #birth rate for rabbits\n",
    "    xdot = a*x*(1-x/K(x,y)) - y*h(x)\n",
    "    return xdot\n",
    "\n",
    "def pred_rate(t, x, y):\n",
    "    c = 0.8 #death rate for foxes\n",
    "    ydot = -c*y + y*h(x)\n",
    "    return ydot\n",
    "\n",
    "#constants\n",
    "a = 0.5\n",
    "b = 1\n",
    "c = 0.8\n",
    "e = 0.6\n",
    "K0 = 1\n",
    "lmbda = 3\n",
    "\n",
    "#boundary conditions\n",
    "h_initial = 0.01\n",
    "x0 = 1.1\n",
    "y0 = 2.1\n",
    "#x0 = (b/e)*math.atanh(c/b)\n",
    "#y0 = (a*x0*(1-x0/K0))/c\n",
    "print(\"x at t=0 is\", x0)\n",
    "print(\"y at t=0 is\", y0)\n",
    "\n",
    "t_initial = 0.0\n",
    "t_final = 100.0\n",
    "\n",
    "population_l3 = mlib.RK4_2var(h_initial, t_initial, t_final, x0, y0, prey_rate, pred_rate)"
   ]
  },
  {
   "cell_type": "code",
   "execution_count": 20,
   "metadata": {},
   "outputs": [
    {
     "data": {
      "image/png": "[encoded data removed]",
      "text/plain": [
       "<Figure size 432x288 with 1 Axes>"
      ]
     },
     "metadata": {
      "needs_background": "light"
     },
     "output_type": "display_data"
    }
   ],
   "source": [
    "plt.plot(population_l0[1], population_l0[2], 'r-')\n",
    "plt.plot(population_l1[1], population_l1[2], 'g-')\n",
    "plt.plot(population_l2[1], population_l2[2], 'b-')\n",
    "plt.plot(population_l3[1], population_l3[2], 'm-')\n",
    "plt.title(\"Prey curve (x(t)) vs predator curve (y(t)) for $\\lambda$ = 3\")\n",
    "plt.xlabel(\"x\")\n",
    "plt.ylabel(\"y\")\n",
    "plt.show()\n",
    "#the red line is a lambda = 0 line"
   ]
  },
  {
   "cell_type": "markdown",
   "metadata": {},
   "source": [
    "# **Figure 3**: Phase portrait with  $\\lambda = 5$"
   ]
  },
  {
   "cell_type": "code",
   "execution_count": 30,
   "metadata": {},
   "outputs": [
    {
     "name": "stdout",
     "output_type": "stream",
     "text": [
      "x at t=0 is 2.5\n",
      "y at t=0 is 0.15\n"
     ]
    }
   ],
   "source": [
    "def h(x):\n",
    "    b = 1\n",
    "    e = 0.6\n",
    "    f = b*math.tanh((e*x)/b)\n",
    "    return f\n",
    "\n",
    "def K(x,y):\n",
    "    K0 = 1\n",
    "    lmbda = 5\n",
    "    K = K0 + lmbda*y\n",
    "    return K\n",
    "\n",
    "def prey_rate(t, x, y):\n",
    "    a = 0.5 #birth rate for rabbits\n",
    "    xdot = a*x*(1-x/K(x,y)) - y*h(x)\n",
    "    return xdot\n",
    "\n",
    "def pred_rate(t, x, y):\n",
    "    c = 0.8 #death rate for foxes\n",
    "    ydot = -c*y + y*h(x)\n",
    "    return ydot\n",
    "\n",
    "#constants\n",
    "a = 0.5\n",
    "b = 1\n",
    "c = 0.8\n",
    "e = 0.6\n",
    "K0 = 1\n",
    "lmbda = 5\n",
    "\n",
    "#boundary conditions\n",
    "h_initial = 0.01\n",
    "x0 = 2.5\n",
    "y0 = 0.15\n",
    "#x0 = (b/e)*math.atanh(c/b)\n",
    "#y0 = (a*x0*(1-x0/K0))/c\n",
    "print(\"x at t=0 is\", x0)\n",
    "print(\"y at t=0 is\", y0)\n",
    "\n",
    "t_initial = 0.0\n",
    "t_final = 100.0\n",
    "\n",
    "population_l0 = mlib.RK4_2var(h_initial, t_initial, t_final, x0, y0, prey_rate, pred_rate)"
   ]
  },
  {
   "cell_type": "code",
   "execution_count": 36,
   "metadata": {},
   "outputs": [
    {
     "name": "stdout",
     "output_type": "stream",
     "text": [
      "x at t=0 is 2.5\n",
      "y at t=0 is 0.3\n"
     ]
    }
   ],
   "source": [
    "def h(x):\n",
    "    b = 1\n",
    "    e = 0.6\n",
    "    f = b*math.tanh((e*x)/b)\n",
    "    return f\n",
    "\n",
    "def K(x,y):\n",
    "    K0 = 1\n",
    "    lmbda = 5\n",
    "    K = K0 + lmbda*y\n",
    "    return K\n",
    "\n",
    "def prey_rate(t, x, y):\n",
    "    a = 0.5 #birth rate for rabbits\n",
    "    xdot = a*x*(1-x/K(x,y)) - y*h(x)\n",
    "    return xdot\n",
    "\n",
    "def pred_rate(t, x, y):\n",
    "    c = 0.8 #death rate for foxes\n",
    "    ydot = -c*y + y*h(x)\n",
    "    return ydot\n",
    "\n",
    "#constants\n",
    "a = 0.5\n",
    "b = 1\n",
    "c = 0.8\n",
    "e = 0.6\n",
    "K0 = 1\n",
    "lmbda = 5\n",
    "\n",
    "#boundary conditions\n",
    "h_initial = 0.01\n",
    "x0 = 2.5\n",
    "y0 = 0.3\n",
    "#x0 = (b/e)*math.atanh(c/b)\n",
    "#y0 = (a*x0*(1-x0/K0))/c\n",
    "print(\"x at t=0 is\", x0)\n",
    "print(\"y at t=0 is\", y0)\n",
    "\n",
    "t_initial = 0.0\n",
    "t_final = 100.0\n",
    "\n",
    "population_l1 = mlib.RK4_2var(h_initial, t_initial, t_final, x0, y0, prey_rate, pred_rate)"
   ]
  },
  {
   "cell_type": "code",
   "execution_count": 32,
   "metadata": {},
   "outputs": [
    {
     "name": "stdout",
     "output_type": "stream",
     "text": [
      "x at t=0 is 2.5\n",
      "y at t=0 is 1\n"
     ]
    }
   ],
   "source": [
    "def h(x):\n",
    "    b = 1\n",
    "    e = 0.6\n",
    "    f = b*math.tanh((e*x)/b)\n",
    "    return f\n",
    "\n",
    "def K(x,y):\n",
    "    K0 = 1\n",
    "    lmbda = 5\n",
    "    K = K0 + lmbda*y\n",
    "    return K\n",
    "\n",
    "def prey_rate(t, x, y):\n",
    "    a = 0.5 #birth rate for rabbits\n",
    "    xdot = a*x*(1-x/K(x,y)) - y*h(x)\n",
    "    return xdot\n",
    "\n",
    "def pred_rate(t, x, y):\n",
    "    c = 0.8 #death rate for foxes\n",
    "    ydot = -c*y + y*h(x)\n",
    "    return ydot\n",
    "\n",
    "#constants\n",
    "a = 0.5\n",
    "b = 1\n",
    "c = 0.8\n",
    "e = 0.6\n",
    "K0 = 1\n",
    "lmbda = 5\n",
    "\n",
    "#boundary conditions\n",
    "h_initial = 0.01\n",
    "x0 = 2.5\n",
    "y0 = 1\n",
    "#x0 = (b/e)*math.atanh(c/b)\n",
    "#y0 = (a*x0*(1-x0/K0))/c\n",
    "print(\"x at t=0 is\", x0)\n",
    "print(\"y at t=0 is\", y0)\n",
    "\n",
    "t_initial = 0.0\n",
    "t_final = 100.0\n",
    "\n",
    "population_l2 = mlib.RK4_2var(h_initial, t_initial, t_final, x0, y0, prey_rate, pred_rate)"
   ]
  },
  {
   "cell_type": "code",
   "execution_count": 33,
   "metadata": {},
   "outputs": [
    {
     "name": "stdout",
     "output_type": "stream",
     "text": [
      "x at t=0 is 2.5\n",
      "y at t=0 is 1.4\n"
     ]
    }
   ],
   "source": [
    "def h(x):\n",
    "    b = 1\n",
    "    e = 0.6\n",
    "    f = b*math.tanh((e*x)/b)\n",
    "    return f\n",
    "\n",
    "def K(x,y):\n",
    "    K0 = 1\n",
    "    lmbda = 5\n",
    "    K = K0 + lmbda*y\n",
    "    return K\n",
    "\n",
    "def prey_rate(t, x, y):\n",
    "    a = 0.5 #birth rate for rabbits\n",
    "    xdot = a*x*(1-x/K(x,y)) - y*h(x)\n",
    "    return xdot\n",
    "\n",
    "def pred_rate(t, x, y):\n",
    "    c = 0.8 #death rate for foxes\n",
    "    ydot = -c*y + y*h(x)\n",
    "    return ydot\n",
    "\n",
    "#constants\n",
    "a = 0.5\n",
    "b = 1\n",
    "c = 0.8\n",
    "e = 0.6\n",
    "K0 = 1\n",
    "lmbda = 5\n",
    "\n",
    "#boundary conditions\n",
    "h_initial = 0.01\n",
    "x0 = 2.5\n",
    "y0 = 1.4\n",
    "#x0 = (b/e)*math.atanh(c/b)\n",
    "#y0 = (a*x0*(1-x0/K0))/c\n",
    "print(\"x at t=0 is\", x0)\n",
    "print(\"y at t=0 is\", y0)\n",
    "\n",
    "t_initial = 0.0\n",
    "t_final = 100.0\n",
    "\n",
    "population_l3 = mlib.RK4_2var(h_initial, t_initial, t_final, x0, y0, prey_rate, pred_rate)"
   ]
  },
  {
   "cell_type": "code",
   "execution_count": 34,
   "metadata": {},
   "outputs": [
    {
     "name": "stdout",
     "output_type": "stream",
     "text": [
      "x at t=0 is 2.5\n",
      "y at t=0 is 1.8\n"
     ]
    }
   ],
   "source": [
    "def h(x):\n",
    "    b = 1\n",
    "    e = 0.6\n",
    "    f = b*math.tanh((e*x)/b)\n",
    "    return f\n",
    "\n",
    "def K(x,y):\n",
    "    K0 = 1\n",
    "    lmbda = 5\n",
    "    K = K0 + lmbda*y\n",
    "    return K\n",
    "\n",
    "def prey_rate(t, x, y):\n",
    "    a = 0.5 #birth rate for rabbits\n",
    "    xdot = a*x*(1-x/K(x,y)) - y*h(x)\n",
    "    return xdot\n",
    "\n",
    "def pred_rate(t, x, y):\n",
    "    c = 0.8 #death rate for foxes\n",
    "    ydot = -c*y + y*h(x)\n",
    "    return ydot\n",
    "\n",
    "#constants\n",
    "a = 0.5\n",
    "b = 1\n",
    "c = 0.8\n",
    "e = 0.6\n",
    "K0 = 1\n",
    "lmbda = 5\n",
    "\n",
    "#boundary conditions\n",
    "h_initial = 0.01\n",
    "x0 = 2.5\n",
    "y0 = 1.8\n",
    "#x0 = (b/e)*math.atanh(c/b)\n",
    "#y0 = (a*x0*(1-x0/K0))/c\n",
    "print(\"x at t=0 is\", x0)\n",
    "print(\"y at t=0 is\", y0)\n",
    "\n",
    "t_initial = 0.0\n",
    "t_final = 100.0\n",
    "\n",
    "population_l4 = mlib.RK4_2var(h_initial, t_initial, t_final, x0, y0, prey_rate, pred_rate)"
   ]
  },
  {
   "cell_type": "code",
   "execution_count": 38,
   "metadata": {},
   "outputs": [
    {
     "name": "stdout",
     "output_type": "stream",
     "text": [
      "x at t=0 is 2.5\n",
      "y at t=0 is 0.05\n"
     ]
    }
   ],
   "source": [
    "def h(x):\n",
    "    b = 1\n",
    "    e = 0.6\n",
    "    f = b*math.tanh((e*x)/b)\n",
    "    return f\n",
    "\n",
    "def K(x,y):\n",
    "    K0 = 1\n",
    "    lmbda = 5\n",
    "    K = K0 + lmbda*y\n",
    "    return K\n",
    "\n",
    "def prey_rate(t, x, y):\n",
    "    a = 0.5 #birth rate for rabbits\n",
    "    xdot = a*x*(1-x/K(x,y)) - y*h(x)\n",
    "    return xdot\n",
    "\n",
    "def pred_rate(t, x, y):\n",
    "    c = 0.8 #death rate for foxes\n",
    "    ydot = -c*y + y*h(x)\n",
    "    return ydot\n",
    "\n",
    "#constants\n",
    "a = 0.5\n",
    "b = 1\n",
    "c = 0.8\n",
    "e = 0.6\n",
    "K0 = 1\n",
    "lmbda = 5\n",
    "\n",
    "#boundary conditions\n",
    "h_initial = 0.01\n",
    "x0 = 2.5\n",
    "y0 = 0.05\n",
    "#x0 = (b/e)*math.atanh(c/b)\n",
    "#y0 = (a*x0*(1-x0/K0))/c\n",
    "print(\"x at t=0 is\", x0)\n",
    "print(\"y at t=0 is\", y0)\n",
    "\n",
    "t_initial = 0.0\n",
    "t_final = 100.0\n",
    "\n",
    "population_l5 = mlib.RK4_2var(h_initial, t_initial, t_final, x0, y0, prey_rate, pred_rate)"
   ]
  },
  {
   "cell_type": "code",
   "execution_count": 60,
   "metadata": {},
   "outputs": [
    {
     "name": "stdout",
     "output_type": "stream",
     "text": [
      "x at t=0 is 2.5\n",
      "y at t=0 is 0.223\n"
     ]
    }
   ],
   "source": [
    "def h(x):\n",
    "    b = 1\n",
    "    e = 0.6\n",
    "    f = b*math.tanh((e*x)/b)\n",
    "    return f\n",
    "\n",
    "def K(x,y):\n",
    "    K0 = 1\n",
    "    lmbda = 5\n",
    "    K = K0 + lmbda*y\n",
    "    return K\n",
    "\n",
    "def prey_rate(t, x, y):\n",
    "    a = 0.5 #birth rate for rabbits\n",
    "    xdot = a*x*(1-x/K(x,y)) - y*h(x)\n",
    "    return xdot\n",
    "\n",
    "def pred_rate(t, x, y):\n",
    "    c = 0.8 #death rate for foxes\n",
    "    ydot = -c*y + y*h(x)\n",
    "    return ydot\n",
    "\n",
    "#constants\n",
    "a = 0.5\n",
    "b = 1\n",
    "c = 0.8\n",
    "e = 0.6\n",
    "K0 = 1\n",
    "lmbda = 5\n",
    "\n",
    "#boundary conditions\n",
    "h_initial = 0.01\n",
    "x0 = 2.5\n",
    "y0 = 0.223\n",
    "#x0 = (b/e)*math.atanh(c/b)\n",
    "#y0 = (a*x0*(1-x0/K0))/c\n",
    "print(\"x at t=0 is\", x0)\n",
    "print(\"y at t=0 is\", y0)\n",
    "\n",
    "t_initial = 0.0\n",
    "t_final = 100.0\n",
    "\n",
    "population_l6 = mlib.RK4_2var(h_initial, t_initial, t_final, x0, y0, prey_rate, pred_rate)"
   ]
  },
  {
   "cell_type": "code",
   "execution_count": 61,
   "metadata": {},
   "outputs": [
    {
     "data": {
      "image/png": "[encoded data removed]",
      "text/plain": [
       "<Figure size 432x288 with 1 Axes>"
      ]
     },
     "metadata": {
      "needs_background": "light"
     },
     "output_type": "display_data"
    }
   ],
   "source": [
    "plt.plot(population_l0[1], population_l0[2], 'r-')\n",
    "plt.plot(population_l1[1], population_l1[2], 'g-')\n",
    "plt.plot(population_l2[1], population_l2[2], 'b-')\n",
    "plt.plot(population_l3[1], population_l3[2], 'c-')\n",
    "plt.plot(population_l4[1], population_l4[2], 'm-')\n",
    "plt.plot(population_l5[1], population_l5[2], 'k-')\n",
    "plt.plot(population_l6[1], population_l6[2], 'y-')\n",
    "plt.title(\"Prey curve (x(t)) vs predator curve (y(t)) for $\\lambda$ = 5\")\n",
    "plt.xlabel(\"x\")\n",
    "plt.ylabel(\"y\")\n",
    "plt.show()"
   ]
  },
  {
   "cell_type": "markdown",
   "metadata": {},
   "source": [
    "# **Figure 4**: Phase portrait with  $\\lambda = 6$"
   ]
  },
  {
   "cell_type": "code",
   "execution_count": 70,
   "metadata": {},
   "outputs": [
    {
     "name": "stdout",
     "output_type": "stream",
     "text": [
      "x at t=0 is 3.5\n",
      "y at t=0 is 0.223\n"
     ]
    }
   ],
   "source": [
    "def h(x):\n",
    "    b = 1\n",
    "    e = 0.6\n",
    "    f = b*math.tanh((e*x)/b)\n",
    "    return f\n",
    "\n",
    "def K(x,y):\n",
    "    K0 = 1\n",
    "    lmbda = 6\n",
    "    K = K0 + lmbda*y\n",
    "    return K\n",
    "\n",
    "def prey_rate(t, x, y):\n",
    "    a = 0.5 #birth rate for rabbits\n",
    "    xdot = a*x*(1-x/K(x,y)) - y*h(x)\n",
    "    return xdot\n",
    "\n",
    "def pred_rate(t, x, y):\n",
    "    c = 0.8 #death rate for foxes\n",
    "    ydot = -c*y + y*h(x)\n",
    "    return ydot\n",
    "\n",
    "#constants\n",
    "a = 0.5\n",
    "b = 1\n",
    "c = 0.8\n",
    "e = 0.6\n",
    "K0 = 1\n",
    "lmbda = 6\n",
    "\n",
    "#boundary conditions\n",
    "h_initial = 0.01\n",
    "x0 = 3.5\n",
    "y0 = 0.223\n",
    "#x0 = (b/e)*math.atanh(c/b)\n",
    "#y0 = (a*x0*(1-x0/K0))/c\n",
    "print(\"x at t=0 is\", x0)\n",
    "print(\"y at t=0 is\", y0)\n",
    "\n",
    "t_initial = 0.0\n",
    "t_final = 100.0\n",
    "\n",
    "population_1 = mlib.RK4_2var(h_initial, t_initial, t_final, x0, y0, prey_rate, pred_rate)"
   ]
  },
  {
   "cell_type": "code",
   "execution_count": 71,
   "metadata": {},
   "outputs": [
    {
     "name": "stdout",
     "output_type": "stream",
     "text": [
      "x at t=0 is 3.5\n",
      "y at t=0 is 0.5\n"
     ]
    }
   ],
   "source": [
    "def h(x):\n",
    "    b = 1\n",
    "    e = 0.6\n",
    "    f = b*math.tanh((e*x)/b)\n",
    "    return f\n",
    "\n",
    "def K(x,y):\n",
    "    K0 = 1\n",
    "    lmbda = 6\n",
    "    K = K0 + lmbda*y\n",
    "    return K\n",
    "\n",
    "def prey_rate(t, x, y):\n",
    "    a = 0.5 #birth rate for rabbits\n",
    "    xdot = a*x*(1-x/K(x,y)) - y*h(x)\n",
    "    return xdot\n",
    "\n",
    "def pred_rate(t, x, y):\n",
    "    c = 0.8 #death rate for foxes\n",
    "    ydot = -c*y + y*h(x)\n",
    "    return ydot\n",
    "\n",
    "#constants\n",
    "a = 0.5\n",
    "b = 1\n",
    "c = 0.8\n",
    "e = 0.6\n",
    "K0 = 1\n",
    "lmbda = 6\n",
    "\n",
    "#boundary conditions\n",
    "h_initial = 0.01\n",
    "x0 = 3.5\n",
    "y0 = 0.5\n",
    "#x0 = (b/e)*math.atanh(c/b)\n",
    "#y0 = (a*x0*(1-x0/K0))/c\n",
    "print(\"x at t=0 is\", x0)\n",
    "print(\"y at t=0 is\", y0)\n",
    "\n",
    "t_initial = 0.0\n",
    "t_final = 1000.0\n",
    "\n",
    "population_2 = mlib.RK4_2var(h_initial, t_initial, t_final, x0, y0, prey_rate, pred_rate)"
   ]
  },
  {
   "cell_type": "code",
   "execution_count": 72,
   "metadata": {},
   "outputs": [
    {
     "data": {
      "image/png": "[encoded data removed]",
      "text/plain": [
       "<Figure size 432x288 with 1 Axes>"
      ]
     },
     "metadata": {
      "needs_background": "light"
     },
     "output_type": "display_data"
    }
   ],
   "source": [
    "plt.plot(population_1[1], population_1[2], 'r-')\n",
    "plt.plot(population_2[1], population_2[2], 'b-')\n",
    "plt.title(\"Prey curve (x(t)) vs predator curve (y(t)) for $\\lambda$ = 6\")\n",
    "plt.xlabel(\"x\")\n",
    "plt.ylabel(\"y\")\n",
    "plt.show()"
   ]
  },
  {
   "cell_type": "markdown",
   "metadata": {},
   "source": [
    "# **Figure 5**: Phase portrait with  $\\lambda = 10$"
   ]
  },
  {
   "cell_type": "code",
   "execution_count": null,
   "metadata": {},
   "outputs": [],
   "source": []
  },
  {
   "cell_type": "markdown",
   "metadata": {},
   "source": [
    "# **Figure 6**: Homoclinic orbit with $\\lambda = 11.18$"
   ]
  },
  {
   "cell_type": "code",
   "execution_count": null,
   "metadata": {},
   "outputs": [],
   "source": []
  },
  {
   "cell_type": "markdown",
   "metadata": {},
   "source": [
    "# **Figure 7**: Same solution as Fig 6 but with $\\lambda = 11.19$"
   ]
  },
  {
   "cell_type": "code",
   "execution_count": null,
   "metadata": {},
   "outputs": [],
   "source": []
  },
  {
   "cell_type": "markdown",
   "metadata": {},
   "source": [
    "# **Figure 8**: Non-autonomous system from (11), (12)"
   ]
  },
  {
   "cell_type": "code",
   "execution_count": null,
   "metadata": {},
   "outputs": [],
   "source": []
  },
  {
   "cell_type": "markdown",
   "metadata": {},
   "source": [
    "# **Figure 9**: Autonomous system 3d orbit from (13), (14)"
   ]
  },
  {
   "cell_type": "code",
   "execution_count": null,
   "metadata": {},
   "outputs": [],
   "source": []
  },
  {
   "cell_type": "markdown",
   "metadata": {},
   "source": [
    "# **Figure 10**: $y_1$ and $y_2$ from Fig 9"
   ]
  },
  {
   "cell_type": "code",
   "execution_count": null,
   "metadata": {},
   "outputs": [],
   "source": []
  }
 ],
 "metadata": {
  "interpreter": {
   "hash": "06e4078bcc0d7a49e904396e03d92b041a9458cc8bdb457eb518cd2e84077cf6"
  },
  "kernelspec": {
   "display_name": "Python 3.7.4 32-bit",
   "language": "python",
   "name": "python3"
  },
  "language_info": {
   "codemirror_mode": {
    "name": "ipython",
    "version": 3
   },
   "file_extension": ".py",
   "mimetype": "text/x-python",
   "name": "python",
   "nbconvert_exporter": "python",
   "pygments_lexer": "ipython3",
   "version": "3.7.4"
  },
  "orig_nbformat": 4
 },
 "nbformat": 4,
 "nbformat_minor": 2
}
